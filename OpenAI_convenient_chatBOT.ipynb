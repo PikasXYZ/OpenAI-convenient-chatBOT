{
  "cells": [
    {
      "cell_type": "markdown",
      "metadata": {
        "id": "view-in-github",
        "colab_type": "text"
      },
      "source": [
        "<a href=\"https://colab.research.google.com/github/PikasXYZ/OpenAI-convenient-chatBOT/blob/main/OpenAI_convenient_chatBOT.ipynb\" target=\"_parent\"><img src=\"https://colab.research.google.com/assets/colab-badge.svg\" alt=\"Open In Colab\"/></a>"
      ]
    },
    {
      "cell_type": "markdown",
      "metadata": {
        "id": "TAcpch1s947y"
      },
      "source": [
        "#Imports & Functions"
      ]
    },
    {
      "cell_type": "code",
      "execution_count": null,
      "metadata": {
        "colab": {
          "base_uri": "https://localhost:8080/"
        },
        "id": "jtDhkyhPBcjk",
        "outputId": "23db1c65-565c-4933-cfdc-193767711df0",
        "cellView": "form"
      },
      "outputs": [
        {
          "output_type": "stream",
          "name": "stdout",
          "text": [
            "fatal: destination path 'OpenAI-convenient-chatBOT' already exists and is not an empty directory.\n"
          ]
        }
      ],
      "source": [
        "#@title Install & Clone\n",
        "!pip install -q openai\n",
        "!pip install -q python-docx\n",
        "!git clone https://github.com/PikasXYZ/OpenAI-convenient-chatBOT.git #Credit to PikasXYZ"
      ]
    },
    {
      "cell_type": "code",
      "execution_count": null,
      "metadata": {
        "id": "3l7HSWbTB3W4",
        "cellView": "form"
      },
      "outputs": [],
      "source": [
        "#@title Import\n",
        "import json\n",
        "import openai\n",
        "import os\n",
        "import gspread\n",
        "import csv\n",
        "import pandas as pd\n",
        "import re\n",
        "from oauth2client.service_account import ServiceAccountCredentials as SAC\n",
        "from IPython.display import Markdown, display, HTML, Code, clear_output\n",
        "from docx import Document"
      ]
    },
    {
      "cell_type": "code",
      "execution_count": null,
      "metadata": {
        "colab": {
          "base_uri": "https://localhost:8080/"
        },
        "id": "HEJ8MQEK1qXv",
        "outputId": "76110d93-46b2-4d49-f8c2-9af33320e137",
        "cellView": "form"
      },
      "outputs": [
        {
          "output_type": "execute_result",
          "data": {
            "text/plain": [
              "'我喜歡妳'"
            ],
            "application/vnd.google.colaboratory.intrinsic+json": {
              "type": "string"
            }
          },
          "metadata": {},
          "execution_count": 36
        }
      ],
      "source": [
        "#@title Name Chat Records w/o Punctuation Marks\n",
        "def get_text_before_first_symbol(input_string):\n",
        "  for i, char in enumerate(input_string):\n",
        "    if not char.isalnum() and char != ' ': return input_string[:i].strip()\n",
        "  else: return input_string.strip()\n",
        "\n",
        "get_text_before_first_symbol(\"  我喜歡妳？別開玩笑了XD\")"
      ]
    },
    {
      "cell_type": "code",
      "execution_count": null,
      "metadata": {
        "colab": {
          "base_uri": "https://localhost:8080/"
        },
        "id": "S3iPCmMvbPT1",
        "outputId": "2bf00171-a6fd-4c8e-8cd0-efc3deffdd6f",
        "cellView": "form"
      },
      "outputs": [
        {
          "output_type": "execute_result",
          "data": {
            "text/plain": [
              "[{'role': 'system', 'content': ' You are a helpful assistant.'},\n",
              " {'role': 'user', 'content': ' This is a document for test'},\n",
              " {'role': 'assistant',\n",
              "  'content': ' \\n\\nIf this text is read….\\n\\nIt means that there’s no problem of the function “LoadHistory”\\n\\n【Ok^^'}]"
            ]
          },
          "metadata": {},
          "execution_count": 37
        }
      ],
      "source": [
        "#@title Read Data of Recorded Chat\n",
        "def LoadHistory(history_path):\n",
        "  doc = Document(history_path)\n",
        "  messages = []\n",
        "  for paragraph in doc.paragraphs:\n",
        "    content = paragraph.text\n",
        "    if content[:5]==\"【You】\": messages.append({\"role\": \"user\", \"content\": content.split(\"】\")[1]})\n",
        "    elif content[:9]==\"【ChatGPT】\": messages.append({\"role\": \"assistant\", \"content\": content.split(\"】\")[1]})\n",
        "    elif content[:8]==\"【System】\": messages.append({\"role\": \"system\", \"content\": content.split(\"】\")[1]})\n",
        "  else:\n",
        "    return messages\n",
        "\n",
        "LoadHistory(\"/content/OpenAI-convenient-chatBOT/history example.docx\")"
      ]
    },
    {
      "cell_type": "code",
      "execution_count": null,
      "metadata": {
        "id": "DnwE6Lh8L5Sz",
        "cellView": "form"
      },
      "outputs": [],
      "source": [
        "#@title Turn the Long Code of \"Loading History\"\"Deciding Whether to Use Prepared Prompt for Initialize\" into a Function\n",
        "#@markdown #####你可以在這邊更改聊天紀錄讀取的路徑\n",
        "#@markdown #####You can change the path of the folder to read chat records here.\n",
        "#@markdown ##### ㅤ\n",
        "\n",
        "def ChatInitialize(En):\n",
        "  #Check if there's any history\n",
        "  history_dir = \"/content/drive/MyDrive/Colab Notebooks/ChatGPT_API\" #@param {type:'string'}\n",
        "  if not os.path.exists(history_dir): os.mkdir(history_dir)\n",
        "  histories = [hd.replace(\".docx\",\"\") for hd in os.listdir(history_dir) if \".docx\" in hd]\n",
        "\n",
        "  #Confirm whether user wants to load history if there's at least a history\n",
        "  if histories:\n",
        "\n",
        "    lst2show = histories.copy()\n",
        "    id=0\n",
        "    no = \"\"\n",
        "    while(\"Loading History\"):\n",
        "\n",
        "      clear_output(wait = True)\n",
        "      print(\"【History】\" if En else \"【聊天紀錄】\")\n",
        "      if lst2show:\n",
        "        for i in range(id, id+5 if id+5<len(lst2show) else len(lst2show)):\n",
        "          print(\"No.{}\\t{}\".format(i+1, lst2show[i]))\n",
        "        print(f\"page {1 + id//5}/{1 + len(lst2show)//5 if len(lst2show)%5 else len(lst2show)//5}\\n\" if En else f\"頁數 {1 + id//5}/{1 + len(lst2show)//5 if len(lst2show)%5 else len(lst2show)//5}\\n\")\n",
        "\n",
        "      else: \n",
        "        input(f\"\\\"{no}\\\" not found! (Press Enter to reset)\" if En else f\"找不到含有「{no}」的聊天紀錄! (按Enter以重設)\")\n",
        "        lst2show = histories.copy()\n",
        "        continue\n",
        "\n",
        "      no = input(\"Enter the number of the history you want to load (\\\"N\\\"/\\\"P\\\" for next/previous page or \\\"Q\\\" to start new chat): \" if En else \"輸入紀錄的編號以匯入 (\\\"N\\\"/\\\"P\\\":上一頁/下一頁 或 \\\"Q\\\":開啟新話題): \")\n",
        "      if no:\n",
        "\n",
        "        try:\n",
        "          if 0 <= int(no)-1 < len(lst2show):\n",
        "            return LoadHistory(os.path.join(history_dir, lst2show[int(no)-1])+\".docx\"), 0, lst2show[int(no)-1]\n",
        "\n",
        "        except:\n",
        "          if no.lower() in [\"n\",\"p\",\"q\"]:\n",
        "            if no.lower() == \"n\": id += 5 if id+5 < len(lst2show) else 0\n",
        "            elif no.lower() == \"p\": id -= 5 if id-5 >= 0 else 0\n",
        "            else: break\n",
        "          else: lst2show, id = [h for h in histories if no in h], 0\n",
        "\n",
        "      else: lst2show, id = histories.copy(), 0\n",
        "\n",
        "  #Check user's intention to start with prompts prepared\n",
        "  clear_output(wait = True)\n",
        "  emphasis = 1\n",
        "  while(\"Checking intention\"):\n",
        "    print(\"Wanna start with prompts prepared? {0}Y{0} or {0}N{0} \".format(\"\\\"\" * emphasis) if En else \"要使用既有的實用ChatGPT指令嗎? {0}Y{1}(要) 或 {0}N{1}(不要): \".format(\"「\" * emphasis, \"」\" * emphasis))\n",
        "    intention = input()\n",
        "    if intention.lower() not in [\"y\",\"n\"]: emphasis += 1\n",
        "    else: break\n",
        "\n",
        "  if intention.lower()==\"n\":\n",
        "    return [{\"role\":\"system\", \"content\": \"You are a helpful assistant.\" if En else \"你是個得力助手\"}], 0, \"\"\n",
        "  else:\n",
        "    #Prepare quick start list\n",
        "    awesome_chatgpt_prompts = []\n",
        "    if not En:\n",
        "      with open(\"/content/OpenAI-convenient-chatBOT/Useful ChatGPT Prompts CN.csv\",\"r\") as f:\n",
        "        useful_ChatGPT_prompts = [[row[0], \"\".join(row[1:])] for row in csv.reader(f)] #row[0] is act and row[1] is prompt\n",
        "    else:\n",
        "      with open(\"/content/OpenAI-convenient-chatBOT/Useful ChatGPT Prompts EN.csv\",\"r\") as f:\n",
        "        useful_ChatGPT_prompts = [[row[0], \"\".join(row[1:])] for row in csv.reader(f)] #row[0] is act and row[1] is prompt\n",
        "      \n",
        "      !git clone https://github.com/f/awesome-chatgpt-prompts.git #Credit to Fatih Kadir Akın\n",
        "      with open(\"/content/awesome-chatgpt-prompts/prompts.csv\",\"r\") as f:\n",
        "        awesome_chatgpt_prompts = [[row[0], \"\".join(row[1:])] for row in csv.reader(f) if row[0] != \"act\"] #row[0] is act and row[1] is prompt\n",
        "\n",
        "    quick_start = useful_ChatGPT_prompts + awesome_chatgpt_prompts\n",
        "\n",
        "    #quick start!\n",
        "    id=0\n",
        "    lst2show = quick_start.copy()\n",
        "    no = \"\"\n",
        "    first_content = \"\"\n",
        "    while(not first_content):\n",
        "\n",
        "      clear_output(wait = True)\n",
        "      if En:\n",
        "        print(\"【Quick Start List】\" if lst2show == quick_start.copy() else f\"【Search Results of {no}】\")\n",
        "      else:\n",
        "        print(\"【快速開始清單】\" if lst2show == quick_start.copy() else f\"【「{no}」的搜尋結果】\")\n",
        "      if lst2show:\n",
        "        for i in range(id, id+5 if id+5<len(lst2show) else len(lst2show)):\n",
        "          print(f\"No.{i+1}\\t{lst2show[i][0]}\")\n",
        "        print(\"page\" if En else \"頁數\" ,f\" {1 + id//5}/{1 + len(lst2show)//5 if len(lst2show)%5 else len(lst2show)//5}\\n\")\n",
        "\n",
        "      else: \n",
        "        input(f\"\\\"{no}\\\" not found! (Press Enter to reset)\" if En else f\"找不到含有「{no}」的指令! (按Enter以重設)\")\n",
        "        lst2show = quick_start.copy()\n",
        "        continue\n",
        "\n",
        "      no = input(\"Enter the number of the mode you want (\\\"N\\\"/\\\"P\\\" for next/previous page or \\\"Q\\\" to quit): \" if En else \"輸入想要的指令號碼 (\\\"N\\\"/\\\"P\\\":上一頁/下一頁 或 \\\"Q\\\":不想用現成指令): \")\n",
        "      if no:\n",
        "\n",
        "        try:\n",
        "          if 0 <= int(no)-1 < len(lst2show):\n",
        "            act = lst2show[int(no)-1][0]\n",
        "            print(f\"\\n【{act}】\")\n",
        "            system_content = \"You are a \"+act if act in awesome_chatgpt_prompts else (\"Please \"+act if En else \"請幫我\"+act)\n",
        "            first_content = lst2show[int(no)-1][1]\n",
        "            if \"{\" in first_content:\n",
        "              print(\">>>\", first_content, \"\\nThere\\'re some parameters to set...\" if En else \"\\n有參數須設定...\")\n",
        "              for keyword in [x for i, x in enumerate(re.findall(r'\\{([^\\{\\}]+)\\}', first_content)) if x not in re.findall(r'\\{([^\\{\\}]+)\\}', first_content)[:i]]:\n",
        "                globals()[keyword.replace(\" \",\"_\")] = input(keyword + \" = \")\n",
        "                first_content = first_content.replace(\"{\"+keyword+\"}\",globals()[keyword.replace(\" \",\"_\")]) \n",
        "        except:\n",
        "          if no.lower() in [\"n\",\"p\",\"q\"]:\n",
        "            if no.lower() == \"n\": id += 5 if id+5 < len(lst2show) else 0\n",
        "            elif no.lower() == \"p\": id -= 5 if id-5 >= 0 else 0\n",
        "            else: return [{\"role\":\"system\", \"content\": \"You are a helpful assistant.\" if En else \"你是個得力助手\"}], 0, \"\"\n",
        "          else: lst2show, id = [row for row in quick_start if no in row[0] or no in row[1]], 0\n",
        "\n",
        "      else: lst2show, id = quick_start.copy(), 0\n",
        "\n",
        "    else:\n",
        "      messages = [{\"role\":\"system\", \"content\": system_content}]\n",
        "      messages.append({\"role\": \"user\", \"content\": first_content})\n",
        "      chatCompletion = openai.ChatCompletion.create(model=\"gpt-3.5-turbo\", messages=messages)\n",
        "      reply = chatCompletion['choices'][0]['message']['content']\n",
        "      messages.append({\"role\": \"assistant\", \"content\": reply})\n",
        "\n",
        "    return messages, chatCompletion['usage']['total_tokens'], \"\""
      ]
    },
    {
      "cell_type": "code",
      "execution_count": null,
      "metadata": {
        "id": "nryejMKTrvG3",
        "cellView": "form"
      },
      "outputs": [],
      "source": [
        "#@title Chat & Save Chat Record\n",
        "#@markdown #####你可以在這邊更改聊天紀錄儲存的路徑\n",
        "#@markdown #####You can change the path of the folder to save chat records here.\n",
        "#@markdown ##### ㅤ\n",
        "\n",
        "def ChatNSave(messages, token_spent, En, history_name):\n",
        "  clear_output(wait = True)\n",
        "  #display(Markdown(\"Chat Start! (Enter \\\"Q\\\" merely if you wanna finish the chat.)\"))\n",
        "  print(\"Chat Start! (Enter \\\"Q\\\" merely if you wanna finish the chat.)\" if En else \"可以開始聊天了! (只輸入 \\\"Q\\\" 就能結束聊天)\")\n",
        "\n",
        "  doc = Document()\n",
        "  for elem in messages:\n",
        "    if elem[\"role\"] != \"system\":\n",
        "      content = \"【{}】 \".format(\"You\" if elem[\"role\"] == \"user\" else \"ChatGPT\") + elem[\"content\"]\n",
        "      #display(Markdown(content))\n",
        "      print(\"\\n\" + content)\n",
        "      doc.add_paragraph(content)\n",
        "    else: doc.add_paragraph(\"【System】 \"+ elem[\"content\"])\n",
        "\n",
        "  try:\n",
        "    message = input(\"\\n【You】 \")\n",
        "    while message.lower() != \"q\":\n",
        "      messages.append({\"role\": \"user\", \"content\": message})\n",
        "      doc.add_paragraph('【You】 '+message)\n",
        "      chatCompletion = openai.ChatCompletion.create(model=\"gpt-3.5-turbo\", messages=messages)\n",
        "      token_spent += chatCompletion['usage']['total_tokens']\n",
        "      reply = chatCompletion['choices'][0]['message']['content']\n",
        "      messages.append({\"role\": \"assistant\", \"content\": reply})\n",
        "      doc.add_paragraph('【ChatGPT】 '+reply)\n",
        "      #display(Markdown(f\"【ChatGPT】 {reply}\"))\n",
        "      print(f\"\\n【ChatGPT】 {reply}\")\n",
        "      message = input(\"\\n【You】 \")\n",
        "    else:\n",
        "      print(f\"\\n\\nChat Finished. ({token_spent} tokens were spent this time.)\" if En else f\"\\n\\n聊天已結束. (這次共花費 {token_spent} 個 token)\")\n",
        "      raise\n",
        "  except:\n",
        "    emphasis = 1\n",
        "    while(\"Checking intension to save record\"):\n",
        "      willing = input(\"\\nWanna save the chat record? {0}Y{0} or {0}N{0}: \".format(\"\\\"\" * emphasis) if En else \"\\n要將聊天紀錄儲存起來嗎? {0}Y(是){1} or {0}N(否){1}:\".format(\"「\" * emphasis, \"」\" * emphasis))\n",
        "      if willing.lower() not in [\"y\",\"n\"]: emphasis += 1\n",
        "      else: break\n",
        "    if willing.lower() == \"y\": \n",
        "      history_dir = \"/content/drive/MyDrive/Colab Notebooks/ChatGPT_API\" #@param {type:'string'}\n",
        "      if not os.path.exists(history_dir): os.mkdir(history_dir)\n",
        "      chatCompletion = openai.ChatCompletion.create(model=\"gpt-3.5-turbo\", messages = messages+[{\"role\": \"user\", \"content\": \"I wanna save all we chatted as a docx, name it within 5 words. give me the name only, no other words and no Filename Extension\" if En else \"濃縮本次聊天的內容於十個字以內回傳(無標點符號)，不要輸出其他內容\"}])\n",
        "      reply = chatCompletion['choices'][0]['message']['content']\n",
        "      docx_name = history_name if history_name else get_text_before_first_symbol(re.sub(r'[^\\w\\s]', '', reply))\n",
        "      doc.save(os.path.join(history_dir,f\"{docx_name}.docx\"))\n",
        "      print(\"Result was saved to\" if En else \"聊天紀錄儲存至\", os.path.join(history_dir,f\"{docx_name}.docx\"))\n",
        "    else:\n",
        "      print(\"Result wasn't saved.\" if En else \"聊天紀錄未儲存><\")"
      ]
    },
    {
      "cell_type": "markdown",
      "metadata": {
        "id": "FyjPEyUa5weq"
      },
      "source": [
        "#ChatBOT"
      ]
    },
    {
      "cell_type": "code",
      "source": [
        "#@title Language Setting\n",
        "#@markdown ##### 請設定欲使用的語言\n",
        "#@markdown ##### Please set the language you wanna use.\n",
        "#@markdown ##### ㅤ\n",
        "language = \"英文 (English)\" #@param [\"英文 (English)\",\"中文 (Chinese)\"]{type:\"string\"}\n",
        "En = language == \"英文 (English)\""
      ],
      "metadata": {
        "cellView": "form",
        "id": "HFdpxG823ajZ"
      },
      "execution_count": null,
      "outputs": []
    },
    {
      "cell_type": "code",
      "execution_count": null,
      "metadata": {
        "colab": {
          "base_uri": "https://localhost:8080/"
        },
        "id": "GDOf_HQLS4Yb",
        "outputId": "17bb2987-8e23-4b93-bb71-eb7820bed946",
        "cellView": "form"
      },
      "outputs": [
        {
          "output_type": "stream",
          "name": "stdout",
          "text": [
            "Found ChatGPT API keys in ChatGPT_API_keys.txt!\n",
            "\n",
            "RateLimitError  :  You exceeded your current quota, please check your plan and billing details.  (sk-MCqZ0udF3Q...)\n",
            "RateLimitError  :  You exceeded your current quota, please check your plan and billing details.  (sk-PCe8WHbyUj...)\n",
            "Found an usable API key!  (sk-bwk0Vt0aGE...)\n"
          ]
        }
      ],
      "source": [
        "#@title Preprocessing\n",
        "#@markdown #####若不想從雲端匯入 ChatGPT 的 API 金鑰，請輸入一個確定能用的\n",
        "#@markdown #####If you don't want to import API keys from Google Drive, Please key in an usable one.\n",
        "#@markdown ##### ㅤ\n",
        "API_key = \"在此輸入 API 金鑰 / Key in API key here\" #@param {type:\"string\"}\n",
        "\n",
        "api_keys = []\n",
        "if API_key[:2] == \"sk\":\n",
        "  api_keys.append(API_key)\n",
        "\n",
        "else:\n",
        "  #Link to Google Drive\n",
        "  from google.colab import drive\n",
        "  drive.mount('/content/drive')\n",
        "  clear_output()\n",
        "\n",
        "  #Find \"ChatGPT_API_keys.txt\" to load API keys from user's Google Drive\n",
        "  for root, dirs, files in os.walk(\"/content/drive/MyDrive/\"):\n",
        "    if \"ChatGPT_API_keys.txt\" in files: \n",
        "      txt_path = os.path.join(root, \"ChatGPT_API_keys.txt\")\n",
        "      break\n",
        "  else:\n",
        "    print(\"Cannot find \\\"ChatGPT_API_keys.txt\\\" in your Google Drive.\" if En else \"在您的 Google Drive 裡找不到 \\\"ChatGPT_API_keys.txt\\\"\")\n",
        "\n",
        "  try:\n",
        "    with open(txt_path,\"r\") as f:\n",
        "      api_keys = [rl.strip() for rl in f.readlines()] #an API key per line\n",
        "    print(\"Found ChatGPT API keys in ChatGPT_API_keys.txt!\\n\" if En else \"已在 ChatGPT_API_keys.txt 中找到 ChatGPT API 的金鑰!\\n\")\n",
        "\n",
        "  except:\n",
        "    for root, dirs, files in os.walk(\"/content/drive/MyDrive/\"): \n",
        "      if \"GSheet.json\" in files: \n",
        "        GSheet_path = os.path.join(root, \"GSheet.json\") #key of Google Sheet API\n",
        "        break\n",
        "    else:\n",
        "      raise Exception(\"Cannot find \\\"GSheet.json\\\" (json of Google Sheet API key).\" if En else \"找不到 \\\"GSheet.json\\\" (Google Sheet API 金鑰的 json 檔)\")\n",
        "\n",
        "    #Get Google Sheets API Authorization\n",
        "    print(\"\\nInstalling neccesaries...\" if En else \"\\n正在安裝必要的套件...\")\n",
        "    !pip install -q gspread \n",
        "    !pip install -q oauth2client\n",
        "    #@markdown ##### ㅤ　　\n",
        "    #@markdown ##### ㅤ\n",
        "    #@markdown #####若您的雲端中有名為 `GSheet.json` 的 Google Sheet API 金鑰檔案且已將 ChatGPT API 的金鑰存在某個已串接 Google Sheet API 的 Google Sheet 裡，可以在底下輸入該 Google Sheet 的 id 以便匯入\n",
        "    #@markdown #####If there's a Google Sheet API file named `GSheet.json` in your Google Drive and your ChatGPT API keys are stored in a Google Sheet which already connects to Google Sheet API, you can key in the id of that Google Sheet for searching.\n",
        "    #@markdown ##### ㅤ\n",
        "    sheet_id = \"在此輸入id / Key in id here.\" #@param {type:\"string\"}\n",
        "    scopes = [\"https://spreadsheets.google.com/feeds\"]\n",
        "    credentials = SAC.from_json_keyfile_name(GSheet_path, scopes) #key location\n",
        "    client = gspread.authorize(credentials)\n",
        "    Sheet = client.open_by_key(\"sheet_id\") #The longest garbled character in the URL of Google Sheet\n",
        "    sheet = Sheet.sheet1 \n",
        "    api_keys = [row[0] for row in sheet.get_all_values()] #an API key per row at column A\n",
        "    print(\"Found ChatGPT API keys in your Google Sheet!\\n\" if En else \"已在您的 Google Sheet 中找到可用的 ChatGPT API 金鑰!\\n\")\n",
        "\n",
        "#Find an Usable API Key\n",
        "for api_key in api_keys:\n",
        "  try:\n",
        "    openai.api_key = api_key\n",
        "    chatCompletion = openai.ChatCompletion.create(model=\"gpt-3.5-turbo\", messages=[{\"role\": \"user\", \"content\": \"hello\"}])\n",
        "    print(\"Found an usable API key!\" if En else \"找到可用的API金鑰!\",f\" ({api_key[:13]}...)\")\n",
        "    break\n",
        "  except Exception as e:\n",
        "    print(type(e).__name__,\" : \",str(e),f\" ({api_key[:13]}...)\")\n",
        "else:\n",
        "  raise Exception(\"There\\'s no usable API key, please try something new!\" if En else \"沒有可用的API金鑰，請再次確認您的資料!\")"
      ]
    },
    {
      "cell_type": "code",
      "execution_count": null,
      "metadata": {
        "colab": {
          "base_uri": "https://localhost:8080/"
        },
        "id": "pTVDnFUECJJK",
        "outputId": "7b2c1404-3fbc-4d91-c1bd-5aa6c5e997c2",
        "cellView": "form"
      },
      "outputs": [
        {
          "output_type": "stream",
          "name": "stdout",
          "text": [
            "Chat Start! (Enter \"Q\" merely if you wanna finish the chat.)\n",
            "\n",
            "【You】 Create a compelling, eye-catching IG post for inviting friends to my party. The post should include candy, cake, and fruit. Also, it should follow these rules: in Chinese, no emoji, , and .\n",
            "\n",
            "【ChatGPT】 喜迎盛大派对！我邀请你们参加我即将举行的私人聚会。我们将有好吃的糖果，美味的蛋糕和新鲜的水果。聚会场地地点详情请私信我，敬请期待！ #派对聚会 #美食分享 #社交媒体\n",
            "\n",
            "【You】 thanks\n",
            "\n",
            "【ChatGPT】 You're welcome!\n",
            "\n",
            "【You】 Q\n",
            "\n",
            "\n",
            "Chat Finished. (339 tokens were spent this time.)\n",
            "\n",
            "Wanna save the chat record? \"Y\" or \"N\": T\n",
            "\n",
            "Wanna save the chat record? \"\"Y\"\" or \"\"N\"\": Y\n",
            "Result was saved to /content/drive/MyDrive/Colab Notebooks/ChatGPT_API/Chat.docx\n"
          ]
        }
      ],
      "source": [
        "#@title Start Chatting!\n",
        "#Initialize Chat & Start Chating\n",
        "messages, token_spent, history_name = ChatInitialize(En)\n",
        "ChatNSave(messages, token_spent, En, history_name)"
      ]
    }
  ],
  "metadata": {
    "colab": {
      "collapsed_sections": [
        "TAcpch1s947y"
      ],
      "provenance": [],
      "include_colab_link": true
    },
    "kernelspec": {
      "display_name": "Python 3",
      "name": "python3"
    },
    "language_info": {
      "name": "python"
    }
  },
  "nbformat": 4,
  "nbformat_minor": 0
}